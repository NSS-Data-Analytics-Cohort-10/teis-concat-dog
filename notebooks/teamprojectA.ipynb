{
 "cells": [
  {
   "cell_type": "code",
   "execution_count": 2,
   "id": "8bf454fd",
   "metadata": {},
   "outputs": [],
   "source": [
    "import pandas as pd\n",
    "import matplotlib.pyplot as plt\n",
    "import seaborn as sns"
   ]
  },
  {
   "cell_type": "markdown",
   "id": "e41019b5",
   "metadata": {},
   "source": [
    "Is there any notable pattern of scoring by region? Note: TEIS contracts with three agencies for evaluations (one per grand region) as follows:\n",
    "\n",
    "\n",
    "East TN, First TN and Southeast\n",
    "Greater Nashville, Upper Cumberland, and South Central\n",
    "Northwest, Southwest, and Memphis Delta"
   ]
  },
  {
   "cell_type": "code",
   "execution_count": 3,
   "id": "40f28be0",
   "metadata": {},
   "outputs": [],
   "source": [
    "dataset = pd.read_excel('..//data/BDI3 All Evals for NSS 11-2023.xlsx')"
   ]
  },
  {
   "cell_type": "code",
   "execution_count": 4,
   "id": "a67542a5",
   "metadata": {},
   "outputs": [
    {
     "name": "stdout",
     "output_type": "stream",
     "text": [
      "<class 'pandas.core.frame.DataFrame'>\n",
      "RangeIndex: 23947 entries, 0 to 23946\n",
      "Columns: 219 entries, Child ID to Code 10\n",
      "dtypes: datetime64[ns](14), float64(79), object(126)\n",
      "memory usage: 40.0+ MB\n"
     ]
    }
   ],
   "source": [
    "dataset.info()"
   ]
  },
  {
   "cell_type": "code",
   "execution_count": null,
   "id": "4c650083",
   "metadata": {},
   "outputs": [],
   "source": []
  },
  {
   "cell_type": "code",
   "execution_count": null,
   "id": "0bfb6edf",
   "metadata": {},
   "outputs": [],
   "source": []
  },
  {
   "cell_type": "code",
   "execution_count": null,
   "id": "203a8fc3",
   "metadata": {},
   "outputs": [],
   "source": []
  }
 ],
 "metadata": {
  "kernelspec": {
   "display_name": "Python 3 (ipykernel)",
   "language": "python",
   "name": "python3"
  },
  "language_info": {
   "codemirror_mode": {
    "name": "ipython",
    "version": 3
   },
   "file_extension": ".py",
   "mimetype": "text/x-python",
   "name": "python",
   "nbconvert_exporter": "python",
   "pygments_lexer": "ipython3",
   "version": "3.11.5"
  }
 },
 "nbformat": 4,
 "nbformat_minor": 5
}
